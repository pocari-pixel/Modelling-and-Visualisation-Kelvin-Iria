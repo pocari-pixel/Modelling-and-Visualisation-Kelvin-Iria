{
  "nbformat": 4,
  "nbformat_minor": 0,
  "metadata": {
    "colab": {
      "name": "Modelling and Visualisation - Kelvin Iria",
      "provenance": [],
      "collapsed_sections": [],
      "authorship_tag": "ABX9TyOARfGWeumHmyL5/cjw0SAS",
      "include_colab_link": true
    },
    "kernelspec": {
      "name": "python3",
      "display_name": "Python 3"
    },
    "language_info": {
      "name": "python"
    }
  },
  "cells": [
    {
      "cell_type": "markdown",
      "metadata": {
        "id": "view-in-github",
        "colab_type": "text"
      },
      "source": [
        "<a href=\"https://colab.research.google.com/github/pocari-pixel/Modelling-and-Visualisation-Kelvin-Iria/blob/main/Modelling_and_Visualisation_Kelvin_Iria.ipynb\" target=\"_parent\"><img src=\"https://colab.research.google.com/assets/colab-badge.svg\" alt=\"Open In Colab\"/></a>"
      ]
    },
    {
      "cell_type": "code",
      "execution_count": 1,
      "metadata": {
        "id": "o1wz8nPwTZBI",
        "colab": {
          "resources": {
            "http://localhost:8080/nbextensions/google.colab/files.js": {
              "data": "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",
              "ok": true,
              "headers": [
                [
                  "content-type",
                  "application/javascript"
                ]
              ],
              "status": 200,
              "status_text": ""
            }
          },
          "base_uri": "https://localhost:8080/",
          "height": 74
        },
        "outputId": "9adf37c7-29b1-4456-9108-6e42e6170593"
      },
      "outputs": [
        {
          "output_type": "display_data",
          "data": {
            "text/plain": [
              "<IPython.core.display.HTML object>"
            ],
            "text/html": [
              "\n",
              "     <input type=\"file\" id=\"files-736dd1bb-5b46-4666-bed7-8255c342893a\" name=\"files[]\" multiple disabled\n",
              "        style=\"border:none\" />\n",
              "     <output id=\"result-736dd1bb-5b46-4666-bed7-8255c342893a\">\n",
              "      Upload widget is only available when the cell has been executed in the\n",
              "      current browser session. Please rerun this cell to enable.\n",
              "      </output>\n",
              "      <script src=\"/nbextensions/google.colab/files.js\"></script> "
            ]
          },
          "metadata": {}
        },
        {
          "output_type": "stream",
          "name": "stdout",
          "text": [
            "Saving CreditCardDataFinal.csv to CreditCardDataFinal.csv\n"
          ]
        }
      ],
      "source": [
        "from google.colab import files\n",
        "uploaded = files.upload()"
      ]
    },
    {
      "cell_type": "markdown",
      "source": [
        "https://towardsdatascience.com/credit-card-fraud-detection-using-machine-learning-python-5b098d4a8edc"
      ],
      "metadata": {
        "id": "S6pjeWCUf0e7"
      }
    },
    {
      "cell_type": "code",
      "source": [
        "#Packages related to general operating system & warnings\n",
        "import os \n",
        "import warnings\n",
        "warnings.filterwarnings('ignore')\n",
        "#Packages related to data importing, manipulation, exploratory data #analysis, data understanding\n",
        "import numpy as np\n",
        "import pandas as pd\n",
        "from pandas import Series, DataFrame\n",
        "import datetime as datetime\n",
        "from termcolor import colored as cl # text customization\n",
        "#Packages related to data visualizaiton\n",
        "import seaborn as sns\n",
        "import matplotlib.pyplot as plt\n",
        "%matplotlib inline\n",
        "#Setting plot sizes and type of plot\n",
        "plt.rc(\"font\", size=14)\n",
        "plt.rcParams['axes.grid'] = True\n",
        "plt.figure(figsize=(6,3))\n",
        "plt.gray()\n",
        "from matplotlib.backends.backend_pdf import PdfPages\n",
        "from sklearn.model_selection import train_test_split, GridSearchCV\n",
        "from sklearn import metrics\n",
        "from sklearn.impute import MissingIndicator, SimpleImputer\n",
        "from sklearn.preprocessing import  PolynomialFeatures, KBinsDiscretizer, FunctionTransformer\n",
        "from sklearn.preprocessing import StandardScaler, MinMaxScaler, MaxAbsScaler\n",
        "from sklearn.preprocessing import LabelEncoder, OneHotEncoder, LabelBinarizer, OrdinalEncoder\n",
        "import statsmodels.formula.api as smf\n",
        "import statsmodels.tsa as tsa\n",
        "from sklearn.linear_model import LogisticRegression, LinearRegression, ElasticNet, Lasso, Ridge\n",
        "from sklearn.neighbors import KNeighborsClassifier, KNeighborsRegressor\n",
        "from sklearn.ensemble import BaggingClassifier, BaggingRegressor,RandomForestClassifier,RandomForestRegressor\n",
        "from sklearn.ensemble import GradientBoostingClassifier,GradientBoostingRegressor, AdaBoostClassifier, AdaBoostRegressor \n",
        "from sklearn.svm import LinearSVC, LinearSVR, SVC, SVR\n",
        "from xgboost import XGBClassifier\n",
        "from sklearn.metrics import f1_score\n",
        "from sklearn.metrics import accuracy_score\n",
        "from sklearn.metrics import confusion_matrix"
      ],
      "metadata": {
        "id": "j6mZes_PmLsy",
        "colab": {
          "base_uri": "https://localhost:8080/",
          "height": 36
        },
        "outputId": "8b7d0a12-518a-41d1-b17b-e2b040514a56"
      },
      "execution_count": 5,
      "outputs": [
        {
          "output_type": "display_data",
          "data": {
            "text/plain": [
              "<Figure size 432x216 with 0 Axes>"
            ]
          },
          "metadata": {}
        }
      ]
    },
    {
      "cell_type": "code",
      "source": [
        "data = pd.read_csv('CreditCardDataFinal.csv')\n",
        "data.head()"
      ],
      "metadata": {
        "colab": {
          "base_uri": "https://localhost:8080/",
          "height": 354
        },
        "id": "oaG0lb4zpXz2",
        "outputId": "de984309-8de5-4ca5-9dda-f2f09c4a6b4c"
      },
      "execution_count": 84,
      "outputs": [
        {
          "output_type": "execute_result",
          "data": {
            "text/plain": [
              "  Transaction ID       Date Day of Week  Time Type of Card Entry Mode Amount  \\\n",
              "0      #3577 209  14-Oct-20   Wednesday    19         Visa        Tap     £5   \n",
              "1      #3039 221  14-Oct-20   Wednesday    17   MasterCard        PIN   £288   \n",
              "2      #2694 780  14-Oct-20   Wednesday    14         Visa        Tap     £5   \n",
              "3      #2640 960  13-Oct-20     Tuesday    14         Visa        Tap    £28   \n",
              "4      #2771 031  13-Oct-20     Tuesday    23         Visa        CVC    £91   \n",
              "\n",
              "  Type of Transaction Merchant Group Country of Transaction Shipping Address  \\\n",
              "0                 POS  Entertainment         United Kingdom   United Kingdom   \n",
              "1                 POS       Services                    USA              USA   \n",
              "2                 POS     Restaurant                  India            India   \n",
              "3                 POS  Entertainment         United Kingdom            India   \n",
              "4              Online    Electronics                    USA              USA   \n",
              "\n",
              "  Country of Residence Gender   Age      Bank  Fraud  \n",
              "0       United Kingdom      M  25.2       RBS      0  \n",
              "1                  USA      F  49.6    Lloyds      0  \n",
              "2                India      F  42.2  Barclays      0  \n",
              "3       United Kingdom      F  51.0  Barclays      0  \n",
              "4       United Kingdom      M  38.0   Halifax      1  "
            ],
            "text/html": [
              "\n",
              "  <div id=\"df-8ee55756-886d-4dfb-a5ff-7729e1db5f81\">\n",
              "    <div class=\"colab-df-container\">\n",
              "      <div>\n",
              "<style scoped>\n",
              "    .dataframe tbody tr th:only-of-type {\n",
              "        vertical-align: middle;\n",
              "    }\n",
              "\n",
              "    .dataframe tbody tr th {\n",
              "        vertical-align: top;\n",
              "    }\n",
              "\n",
              "    .dataframe thead th {\n",
              "        text-align: right;\n",
              "    }\n",
              "</style>\n",
              "<table border=\"1\" class=\"dataframe\">\n",
              "  <thead>\n",
              "    <tr style=\"text-align: right;\">\n",
              "      <th></th>\n",
              "      <th>Transaction ID</th>\n",
              "      <th>Date</th>\n",
              "      <th>Day of Week</th>\n",
              "      <th>Time</th>\n",
              "      <th>Type of Card</th>\n",
              "      <th>Entry Mode</th>\n",
              "      <th>Amount</th>\n",
              "      <th>Type of Transaction</th>\n",
              "      <th>Merchant Group</th>\n",
              "      <th>Country of Transaction</th>\n",
              "      <th>Shipping Address</th>\n",
              "      <th>Country of Residence</th>\n",
              "      <th>Gender</th>\n",
              "      <th>Age</th>\n",
              "      <th>Bank</th>\n",
              "      <th>Fraud</th>\n",
              "    </tr>\n",
              "  </thead>\n",
              "  <tbody>\n",
              "    <tr>\n",
              "      <th>0</th>\n",
              "      <td>#3577 209</td>\n",
              "      <td>14-Oct-20</td>\n",
              "      <td>Wednesday</td>\n",
              "      <td>19</td>\n",
              "      <td>Visa</td>\n",
              "      <td>Tap</td>\n",
              "      <td>£5</td>\n",
              "      <td>POS</td>\n",
              "      <td>Entertainment</td>\n",
              "      <td>United Kingdom</td>\n",
              "      <td>United Kingdom</td>\n",
              "      <td>United Kingdom</td>\n",
              "      <td>M</td>\n",
              "      <td>25.2</td>\n",
              "      <td>RBS</td>\n",
              "      <td>0</td>\n",
              "    </tr>\n",
              "    <tr>\n",
              "      <th>1</th>\n",
              "      <td>#3039 221</td>\n",
              "      <td>14-Oct-20</td>\n",
              "      <td>Wednesday</td>\n",
              "      <td>17</td>\n",
              "      <td>MasterCard</td>\n",
              "      <td>PIN</td>\n",
              "      <td>£288</td>\n",
              "      <td>POS</td>\n",
              "      <td>Services</td>\n",
              "      <td>USA</td>\n",
              "      <td>USA</td>\n",
              "      <td>USA</td>\n",
              "      <td>F</td>\n",
              "      <td>49.6</td>\n",
              "      <td>Lloyds</td>\n",
              "      <td>0</td>\n",
              "    </tr>\n",
              "    <tr>\n",
              "      <th>2</th>\n",
              "      <td>#2694 780</td>\n",
              "      <td>14-Oct-20</td>\n",
              "      <td>Wednesday</td>\n",
              "      <td>14</td>\n",
              "      <td>Visa</td>\n",
              "      <td>Tap</td>\n",
              "      <td>£5</td>\n",
              "      <td>POS</td>\n",
              "      <td>Restaurant</td>\n",
              "      <td>India</td>\n",
              "      <td>India</td>\n",
              "      <td>India</td>\n",
              "      <td>F</td>\n",
              "      <td>42.2</td>\n",
              "      <td>Barclays</td>\n",
              "      <td>0</td>\n",
              "    </tr>\n",
              "    <tr>\n",
              "      <th>3</th>\n",
              "      <td>#2640 960</td>\n",
              "      <td>13-Oct-20</td>\n",
              "      <td>Tuesday</td>\n",
              "      <td>14</td>\n",
              "      <td>Visa</td>\n",
              "      <td>Tap</td>\n",
              "      <td>£28</td>\n",
              "      <td>POS</td>\n",
              "      <td>Entertainment</td>\n",
              "      <td>United Kingdom</td>\n",
              "      <td>India</td>\n",
              "      <td>United Kingdom</td>\n",
              "      <td>F</td>\n",
              "      <td>51.0</td>\n",
              "      <td>Barclays</td>\n",
              "      <td>0</td>\n",
              "    </tr>\n",
              "    <tr>\n",
              "      <th>4</th>\n",
              "      <td>#2771 031</td>\n",
              "      <td>13-Oct-20</td>\n",
              "      <td>Tuesday</td>\n",
              "      <td>23</td>\n",
              "      <td>Visa</td>\n",
              "      <td>CVC</td>\n",
              "      <td>£91</td>\n",
              "      <td>Online</td>\n",
              "      <td>Electronics</td>\n",
              "      <td>USA</td>\n",
              "      <td>USA</td>\n",
              "      <td>United Kingdom</td>\n",
              "      <td>M</td>\n",
              "      <td>38.0</td>\n",
              "      <td>Halifax</td>\n",
              "      <td>1</td>\n",
              "    </tr>\n",
              "  </tbody>\n",
              "</table>\n",
              "</div>\n",
              "      <button class=\"colab-df-convert\" onclick=\"convertToInteractive('df-8ee55756-886d-4dfb-a5ff-7729e1db5f81')\"\n",
              "              title=\"Convert this dataframe to an interactive table.\"\n",
              "              style=\"display:none;\">\n",
              "        \n",
              "  <svg xmlns=\"http://www.w3.org/2000/svg\" height=\"24px\"viewBox=\"0 0 24 24\"\n",
              "       width=\"24px\">\n",
              "    <path d=\"M0 0h24v24H0V0z\" fill=\"none\"/>\n",
              "    <path d=\"M18.56 5.44l.94 2.06.94-2.06 2.06-.94-2.06-.94-.94-2.06-.94 2.06-2.06.94zm-11 1L8.5 8.5l.94-2.06 2.06-.94-2.06-.94L8.5 2.5l-.94 2.06-2.06.94zm10 10l.94 2.06.94-2.06 2.06-.94-2.06-.94-.94-2.06-.94 2.06-2.06.94z\"/><path d=\"M17.41 7.96l-1.37-1.37c-.4-.4-.92-.59-1.43-.59-.52 0-1.04.2-1.43.59L10.3 9.45l-7.72 7.72c-.78.78-.78 2.05 0 2.83L4 21.41c.39.39.9.59 1.41.59.51 0 1.02-.2 1.41-.59l7.78-7.78 2.81-2.81c.8-.78.8-2.07 0-2.86zM5.41 20L4 18.59l7.72-7.72 1.47 1.35L5.41 20z\"/>\n",
              "  </svg>\n",
              "      </button>\n",
              "      \n",
              "  <style>\n",
              "    .colab-df-container {\n",
              "      display:flex;\n",
              "      flex-wrap:wrap;\n",
              "      gap: 12px;\n",
              "    }\n",
              "\n",
              "    .colab-df-convert {\n",
              "      background-color: #E8F0FE;\n",
              "      border: none;\n",
              "      border-radius: 50%;\n",
              "      cursor: pointer;\n",
              "      display: none;\n",
              "      fill: #1967D2;\n",
              "      height: 32px;\n",
              "      padding: 0 0 0 0;\n",
              "      width: 32px;\n",
              "    }\n",
              "\n",
              "    .colab-df-convert:hover {\n",
              "      background-color: #E2EBFA;\n",
              "      box-shadow: 0px 1px 2px rgba(60, 64, 67, 0.3), 0px 1px 3px 1px rgba(60, 64, 67, 0.15);\n",
              "      fill: #174EA6;\n",
              "    }\n",
              "\n",
              "    [theme=dark] .colab-df-convert {\n",
              "      background-color: #3B4455;\n",
              "      fill: #D2E3FC;\n",
              "    }\n",
              "\n",
              "    [theme=dark] .colab-df-convert:hover {\n",
              "      background-color: #434B5C;\n",
              "      box-shadow: 0px 1px 3px 1px rgba(0, 0, 0, 0.15);\n",
              "      filter: drop-shadow(0px 1px 2px rgba(0, 0, 0, 0.3));\n",
              "      fill: #FFFFFF;\n",
              "    }\n",
              "  </style>\n",
              "\n",
              "      <script>\n",
              "        const buttonEl =\n",
              "          document.querySelector('#df-8ee55756-886d-4dfb-a5ff-7729e1db5f81 button.colab-df-convert');\n",
              "        buttonEl.style.display =\n",
              "          google.colab.kernel.accessAllowed ? 'block' : 'none';\n",
              "\n",
              "        async function convertToInteractive(key) {\n",
              "          const element = document.querySelector('#df-8ee55756-886d-4dfb-a5ff-7729e1db5f81');\n",
              "          const dataTable =\n",
              "            await google.colab.kernel.invokeFunction('convertToInteractive',\n",
              "                                                     [key], {});\n",
              "          if (!dataTable) return;\n",
              "\n",
              "          const docLinkHtml = 'Like what you see? Visit the ' +\n",
              "            '<a target=\"_blank\" href=https://colab.research.google.com/notebooks/data_table.ipynb>data table notebook</a>'\n",
              "            + ' to learn more about interactive tables.';\n",
              "          element.innerHTML = '';\n",
              "          dataTable['output_type'] = 'display_data';\n",
              "          await google.colab.output.renderOutput(dataTable, element);\n",
              "          const docLink = document.createElement('div');\n",
              "          docLink.innerHTML = docLinkHtml;\n",
              "          element.appendChild(docLink);\n",
              "        }\n",
              "      </script>\n",
              "    </div>\n",
              "  </div>\n",
              "  "
            ]
          },
          "metadata": {},
          "execution_count": 84
        }
      ]
    },
    {
      "cell_type": "code",
      "source": [
        "Total_transactions = len(data)\n",
        "normal = len(data[data.Fraud == 0])\n",
        "fraudulent = len(data[data.Fraud == 1])\n",
        "fraud_percentage = round(fraudulent/normal*100, 2)\n",
        "print(cl('Total number of Trnsactions are {}'.format(Total_transactions), attrs = ['bold']))\n",
        "print(cl('Number of Normal Transactions are {}'.format(normal), attrs = ['bold']))\n",
        "print(cl('Number of fraudulent Transactions are {}'.format(fraudulent), attrs = ['bold']))\n",
        "print(cl('Percentage of fraud Transactions is {}'.format(fraud_percentage), attrs = ['bold']))\n"
      ],
      "metadata": {
        "colab": {
          "base_uri": "https://localhost:8080/"
        },
        "id": "pcebL5aVQ4rv",
        "outputId": "0e76ed02-17c8-4460-b88a-271c9c07bb44"
      },
      "execution_count": 50,
      "outputs": [
        {
          "output_type": "stream",
          "name": "stdout",
          "text": [
            "\u001b[1mTotal number of Trnsactions are 100000\u001b[0m\n",
            "\u001b[1mNumber of Normal Transactions are 92805\u001b[0m\n",
            "\u001b[1mNumber of fraudulent Transactions are 7195\u001b[0m\n",
            "\u001b[1mPercentage of fraud Transactions is 7.75\u001b[0m\n"
          ]
        }
      ]
    },
    {
      "cell_type": "markdown",
      "source": [
        "Data Preparation / Formatting"
      ],
      "metadata": {
        "id": "wkdm9onrvFYn"
      }
    },
    {
      "cell_type": "code",
      "source": [
        "data['Transaction ID'] = data['Transaction ID'].str.replace('#','')\n",
        "data['Transaction ID'] = data['Transaction ID'].str.replace(' ','')\n",
        "data['Amount'] = data['Amount'].str.replace('£','')\n",
        "data['Date']=pd.to_datetime(data['Date'])\n",
        "# can use decide where to pu this --> \n",
        "# data['Age'].max()\n",
        "# data['Age'] = data['Age'].astype('uint8', errors='ignore') #We'll used unsigned integer \"uint8\" with range 0 - 255 to save memory. Humans don't age past 255 years old!\n",
        "data.head()"
      ],
      "metadata": {
        "colab": {
          "base_uri": "https://localhost:8080/",
          "height": 354
        },
        "id": "xWCWiieE09hH",
        "outputId": "e412cf06-6ae6-4a1a-fb07-6e3fcef7b77d"
      },
      "execution_count": 85,
      "outputs": [
        {
          "output_type": "execute_result",
          "data": {
            "text/plain": [
              "  Transaction ID       Date Day of Week  Time Type of Card Entry Mode Amount  \\\n",
              "0        3577209 2020-10-14   Wednesday    19         Visa        Tap      5   \n",
              "1        3039221 2020-10-14   Wednesday    17   MasterCard        PIN    288   \n",
              "2        2694780 2020-10-14   Wednesday    14         Visa        Tap      5   \n",
              "3        2640960 2020-10-13     Tuesday    14         Visa        Tap     28   \n",
              "4        2771031 2020-10-13     Tuesday    23         Visa        CVC     91   \n",
              "\n",
              "  Type of Transaction Merchant Group Country of Transaction Shipping Address  \\\n",
              "0                 POS  Entertainment         United Kingdom   United Kingdom   \n",
              "1                 POS       Services                    USA              USA   \n",
              "2                 POS     Restaurant                  India            India   \n",
              "3                 POS  Entertainment         United Kingdom            India   \n",
              "4              Online    Electronics                    USA              USA   \n",
              "\n",
              "  Country of Residence Gender   Age      Bank  Fraud  \n",
              "0       United Kingdom      M  25.2       RBS      0  \n",
              "1                  USA      F  49.6    Lloyds      0  \n",
              "2                India      F  42.2  Barclays      0  \n",
              "3       United Kingdom      F  51.0  Barclays      0  \n",
              "4       United Kingdom      M  38.0   Halifax      1  "
            ],
            "text/html": [
              "\n",
              "  <div id=\"df-b3aabfb0-51be-42b3-a881-4cc92ee784ed\">\n",
              "    <div class=\"colab-df-container\">\n",
              "      <div>\n",
              "<style scoped>\n",
              "    .dataframe tbody tr th:only-of-type {\n",
              "        vertical-align: middle;\n",
              "    }\n",
              "\n",
              "    .dataframe tbody tr th {\n",
              "        vertical-align: top;\n",
              "    }\n",
              "\n",
              "    .dataframe thead th {\n",
              "        text-align: right;\n",
              "    }\n",
              "</style>\n",
              "<table border=\"1\" class=\"dataframe\">\n",
              "  <thead>\n",
              "    <tr style=\"text-align: right;\">\n",
              "      <th></th>\n",
              "      <th>Transaction ID</th>\n",
              "      <th>Date</th>\n",
              "      <th>Day of Week</th>\n",
              "      <th>Time</th>\n",
              "      <th>Type of Card</th>\n",
              "      <th>Entry Mode</th>\n",
              "      <th>Amount</th>\n",
              "      <th>Type of Transaction</th>\n",
              "      <th>Merchant Group</th>\n",
              "      <th>Country of Transaction</th>\n",
              "      <th>Shipping Address</th>\n",
              "      <th>Country of Residence</th>\n",
              "      <th>Gender</th>\n",
              "      <th>Age</th>\n",
              "      <th>Bank</th>\n",
              "      <th>Fraud</th>\n",
              "    </tr>\n",
              "  </thead>\n",
              "  <tbody>\n",
              "    <tr>\n",
              "      <th>0</th>\n",
              "      <td>3577209</td>\n",
              "      <td>2020-10-14</td>\n",
              "      <td>Wednesday</td>\n",
              "      <td>19</td>\n",
              "      <td>Visa</td>\n",
              "      <td>Tap</td>\n",
              "      <td>5</td>\n",
              "      <td>POS</td>\n",
              "      <td>Entertainment</td>\n",
              "      <td>United Kingdom</td>\n",
              "      <td>United Kingdom</td>\n",
              "      <td>United Kingdom</td>\n",
              "      <td>M</td>\n",
              "      <td>25.2</td>\n",
              "      <td>RBS</td>\n",
              "      <td>0</td>\n",
              "    </tr>\n",
              "    <tr>\n",
              "      <th>1</th>\n",
              "      <td>3039221</td>\n",
              "      <td>2020-10-14</td>\n",
              "      <td>Wednesday</td>\n",
              "      <td>17</td>\n",
              "      <td>MasterCard</td>\n",
              "      <td>PIN</td>\n",
              "      <td>288</td>\n",
              "      <td>POS</td>\n",
              "      <td>Services</td>\n",
              "      <td>USA</td>\n",
              "      <td>USA</td>\n",
              "      <td>USA</td>\n",
              "      <td>F</td>\n",
              "      <td>49.6</td>\n",
              "      <td>Lloyds</td>\n",
              "      <td>0</td>\n",
              "    </tr>\n",
              "    <tr>\n",
              "      <th>2</th>\n",
              "      <td>2694780</td>\n",
              "      <td>2020-10-14</td>\n",
              "      <td>Wednesday</td>\n",
              "      <td>14</td>\n",
              "      <td>Visa</td>\n",
              "      <td>Tap</td>\n",
              "      <td>5</td>\n",
              "      <td>POS</td>\n",
              "      <td>Restaurant</td>\n",
              "      <td>India</td>\n",
              "      <td>India</td>\n",
              "      <td>India</td>\n",
              "      <td>F</td>\n",
              "      <td>42.2</td>\n",
              "      <td>Barclays</td>\n",
              "      <td>0</td>\n",
              "    </tr>\n",
              "    <tr>\n",
              "      <th>3</th>\n",
              "      <td>2640960</td>\n",
              "      <td>2020-10-13</td>\n",
              "      <td>Tuesday</td>\n",
              "      <td>14</td>\n",
              "      <td>Visa</td>\n",
              "      <td>Tap</td>\n",
              "      <td>28</td>\n",
              "      <td>POS</td>\n",
              "      <td>Entertainment</td>\n",
              "      <td>United Kingdom</td>\n",
              "      <td>India</td>\n",
              "      <td>United Kingdom</td>\n",
              "      <td>F</td>\n",
              "      <td>51.0</td>\n",
              "      <td>Barclays</td>\n",
              "      <td>0</td>\n",
              "    </tr>\n",
              "    <tr>\n",
              "      <th>4</th>\n",
              "      <td>2771031</td>\n",
              "      <td>2020-10-13</td>\n",
              "      <td>Tuesday</td>\n",
              "      <td>23</td>\n",
              "      <td>Visa</td>\n",
              "      <td>CVC</td>\n",
              "      <td>91</td>\n",
              "      <td>Online</td>\n",
              "      <td>Electronics</td>\n",
              "      <td>USA</td>\n",
              "      <td>USA</td>\n",
              "      <td>United Kingdom</td>\n",
              "      <td>M</td>\n",
              "      <td>38.0</td>\n",
              "      <td>Halifax</td>\n",
              "      <td>1</td>\n",
              "    </tr>\n",
              "  </tbody>\n",
              "</table>\n",
              "</div>\n",
              "      <button class=\"colab-df-convert\" onclick=\"convertToInteractive('df-b3aabfb0-51be-42b3-a881-4cc92ee784ed')\"\n",
              "              title=\"Convert this dataframe to an interactive table.\"\n",
              "              style=\"display:none;\">\n",
              "        \n",
              "  <svg xmlns=\"http://www.w3.org/2000/svg\" height=\"24px\"viewBox=\"0 0 24 24\"\n",
              "       width=\"24px\">\n",
              "    <path d=\"M0 0h24v24H0V0z\" fill=\"none\"/>\n",
              "    <path d=\"M18.56 5.44l.94 2.06.94-2.06 2.06-.94-2.06-.94-.94-2.06-.94 2.06-2.06.94zm-11 1L8.5 8.5l.94-2.06 2.06-.94-2.06-.94L8.5 2.5l-.94 2.06-2.06.94zm10 10l.94 2.06.94-2.06 2.06-.94-2.06-.94-.94-2.06-.94 2.06-2.06.94z\"/><path d=\"M17.41 7.96l-1.37-1.37c-.4-.4-.92-.59-1.43-.59-.52 0-1.04.2-1.43.59L10.3 9.45l-7.72 7.72c-.78.78-.78 2.05 0 2.83L4 21.41c.39.39.9.59 1.41.59.51 0 1.02-.2 1.41-.59l7.78-7.78 2.81-2.81c.8-.78.8-2.07 0-2.86zM5.41 20L4 18.59l7.72-7.72 1.47 1.35L5.41 20z\"/>\n",
              "  </svg>\n",
              "      </button>\n",
              "      \n",
              "  <style>\n",
              "    .colab-df-container {\n",
              "      display:flex;\n",
              "      flex-wrap:wrap;\n",
              "      gap: 12px;\n",
              "    }\n",
              "\n",
              "    .colab-df-convert {\n",
              "      background-color: #E8F0FE;\n",
              "      border: none;\n",
              "      border-radius: 50%;\n",
              "      cursor: pointer;\n",
              "      display: none;\n",
              "      fill: #1967D2;\n",
              "      height: 32px;\n",
              "      padding: 0 0 0 0;\n",
              "      width: 32px;\n",
              "    }\n",
              "\n",
              "    .colab-df-convert:hover {\n",
              "      background-color: #E2EBFA;\n",
              "      box-shadow: 0px 1px 2px rgba(60, 64, 67, 0.3), 0px 1px 3px 1px rgba(60, 64, 67, 0.15);\n",
              "      fill: #174EA6;\n",
              "    }\n",
              "\n",
              "    [theme=dark] .colab-df-convert {\n",
              "      background-color: #3B4455;\n",
              "      fill: #D2E3FC;\n",
              "    }\n",
              "\n",
              "    [theme=dark] .colab-df-convert:hover {\n",
              "      background-color: #434B5C;\n",
              "      box-shadow: 0px 1px 3px 1px rgba(0, 0, 0, 0.15);\n",
              "      filter: drop-shadow(0px 1px 2px rgba(0, 0, 0, 0.3));\n",
              "      fill: #FFFFFF;\n",
              "    }\n",
              "  </style>\n",
              "\n",
              "      <script>\n",
              "        const buttonEl =\n",
              "          document.querySelector('#df-b3aabfb0-51be-42b3-a881-4cc92ee784ed button.colab-df-convert');\n",
              "        buttonEl.style.display =\n",
              "          google.colab.kernel.accessAllowed ? 'block' : 'none';\n",
              "\n",
              "        async function convertToInteractive(key) {\n",
              "          const element = document.querySelector('#df-b3aabfb0-51be-42b3-a881-4cc92ee784ed');\n",
              "          const dataTable =\n",
              "            await google.colab.kernel.invokeFunction('convertToInteractive',\n",
              "                                                     [key], {});\n",
              "          if (!dataTable) return;\n",
              "\n",
              "          const docLinkHtml = 'Like what you see? Visit the ' +\n",
              "            '<a target=\"_blank\" href=https://colab.research.google.com/notebooks/data_table.ipynb>data table notebook</a>'\n",
              "            + ' to learn more about interactive tables.';\n",
              "          element.innerHTML = '';\n",
              "          dataTable['output_type'] = 'display_data';\n",
              "          await google.colab.output.renderOutput(dataTable, element);\n",
              "          const docLink = document.createElement('div');\n",
              "          docLink.innerHTML = docLinkHtml;\n",
              "          element.appendChild(docLink);\n",
              "        }\n",
              "      </script>\n",
              "    </div>\n",
              "  </div>\n",
              "  "
            ]
          },
          "metadata": {},
          "execution_count": 85
        }
      ]
    },
    {
      "cell_type": "code",
      "source": [
        "data=data.convert_dtypes()\n",
        "data.info()"
      ],
      "metadata": {
        "colab": {
          "base_uri": "https://localhost:8080/"
        },
        "id": "68QnnBq0gXkb",
        "outputId": "f37cc021-2f12-45c2-c6a6-4c0bf5f35bbe"
      },
      "execution_count": 86,
      "outputs": [
        {
          "output_type": "stream",
          "name": "stdout",
          "text": [
            "<class 'pandas.core.frame.DataFrame'>\n",
            "RangeIndex: 100000 entries, 0 to 99999\n",
            "Data columns (total 16 columns):\n",
            " #   Column                  Non-Null Count   Dtype         \n",
            "---  ------                  --------------   -----         \n",
            " 0   Transaction ID          100000 non-null  string        \n",
            " 1   Date                    100000 non-null  datetime64[ns]\n",
            " 2   Day of Week             100000 non-null  string        \n",
            " 3   Time                    100000 non-null  Int64         \n",
            " 4   Type of Card            100000 non-null  string        \n",
            " 5   Entry Mode              100000 non-null  string        \n",
            " 6   Amount                  99994 non-null   string        \n",
            " 7   Type of Transaction     100000 non-null  string        \n",
            " 8   Merchant Group          99990 non-null   string        \n",
            " 9   Country of Transaction  100000 non-null  string        \n",
            " 10  Shipping Address        99995 non-null   string        \n",
            " 11  Country of Residence    100000 non-null  string        \n",
            " 12  Gender                  99996 non-null   string        \n",
            " 13  Age                     100000 non-null  Float64       \n",
            " 14  Bank                    100000 non-null  string        \n",
            " 15  Fraud                   100000 non-null  Int64         \n",
            "dtypes: Float64(1), Int64(2), datetime64[ns](1), string(12)\n",
            "memory usage: 12.5 MB\n"
          ]
        }
      ]
    },
    {
      "cell_type": "code",
      "source": [
        "data.head()"
      ],
      "metadata": {
        "colab": {
          "base_uri": "https://localhost:8080/",
          "height": 354
        },
        "id": "v2BLsd_zoPap",
        "outputId": "f0298545-87be-4ed8-d614-0300c439bf99"
      },
      "execution_count": 10,
      "outputs": [
        {
          "output_type": "execute_result",
          "data": {
            "text/plain": [
              "  Transaction ID       Date Day of Week  Time Type of Card Entry Mode Amount  \\\n",
              "0      #3577 209  14-Oct-20   Wednesday    19         Visa        Tap     £5   \n",
              "1      #3039 221  14-Oct-20   Wednesday    17   MasterCard        PIN   £288   \n",
              "2      #2694 780  14-Oct-20   Wednesday    14         Visa        Tap     £5   \n",
              "3      #2640 960  13-Oct-20     Tuesday    14         Visa        Tap    £28   \n",
              "4      #2771 031  13-Oct-20     Tuesday    23         Visa        CVC    £91   \n",
              "\n",
              "  Type of Transaction Merchant Group Country of Transaction Shipping Address  \\\n",
              "0                 POS  Entertainment         United Kingdom   United Kingdom   \n",
              "1                 POS       Services                    USA              USA   \n",
              "2                 POS     Restaurant                  India            India   \n",
              "3                 POS  Entertainment         United Kingdom            India   \n",
              "4              Online    Electronics                    USA              USA   \n",
              "\n",
              "  Country of Residence Gender   Age      Bank  Fraud  \n",
              "0       United Kingdom      M  25.2       RBS      0  \n",
              "1                  USA      F  49.6    Lloyds      0  \n",
              "2                India      F  42.2  Barclays      0  \n",
              "3       United Kingdom      F  51.0  Barclays      0  \n",
              "4       United Kingdom      M  38.0   Halifax      1  "
            ],
            "text/html": [
              "\n",
              "  <div id=\"df-ee8d9344-d160-4415-8368-60eae918d2d3\">\n",
              "    <div class=\"colab-df-container\">\n",
              "      <div>\n",
              "<style scoped>\n",
              "    .dataframe tbody tr th:only-of-type {\n",
              "        vertical-align: middle;\n",
              "    }\n",
              "\n",
              "    .dataframe tbody tr th {\n",
              "        vertical-align: top;\n",
              "    }\n",
              "\n",
              "    .dataframe thead th {\n",
              "        text-align: right;\n",
              "    }\n",
              "</style>\n",
              "<table border=\"1\" class=\"dataframe\">\n",
              "  <thead>\n",
              "    <tr style=\"text-align: right;\">\n",
              "      <th></th>\n",
              "      <th>Transaction ID</th>\n",
              "      <th>Date</th>\n",
              "      <th>Day of Week</th>\n",
              "      <th>Time</th>\n",
              "      <th>Type of Card</th>\n",
              "      <th>Entry Mode</th>\n",
              "      <th>Amount</th>\n",
              "      <th>Type of Transaction</th>\n",
              "      <th>Merchant Group</th>\n",
              "      <th>Country of Transaction</th>\n",
              "      <th>Shipping Address</th>\n",
              "      <th>Country of Residence</th>\n",
              "      <th>Gender</th>\n",
              "      <th>Age</th>\n",
              "      <th>Bank</th>\n",
              "      <th>Fraud</th>\n",
              "    </tr>\n",
              "  </thead>\n",
              "  <tbody>\n",
              "    <tr>\n",
              "      <th>0</th>\n",
              "      <td>#3577 209</td>\n",
              "      <td>14-Oct-20</td>\n",
              "      <td>Wednesday</td>\n",
              "      <td>19</td>\n",
              "      <td>Visa</td>\n",
              "      <td>Tap</td>\n",
              "      <td>£5</td>\n",
              "      <td>POS</td>\n",
              "      <td>Entertainment</td>\n",
              "      <td>United Kingdom</td>\n",
              "      <td>United Kingdom</td>\n",
              "      <td>United Kingdom</td>\n",
              "      <td>M</td>\n",
              "      <td>25.2</td>\n",
              "      <td>RBS</td>\n",
              "      <td>0</td>\n",
              "    </tr>\n",
              "    <tr>\n",
              "      <th>1</th>\n",
              "      <td>#3039 221</td>\n",
              "      <td>14-Oct-20</td>\n",
              "      <td>Wednesday</td>\n",
              "      <td>17</td>\n",
              "      <td>MasterCard</td>\n",
              "      <td>PIN</td>\n",
              "      <td>£288</td>\n",
              "      <td>POS</td>\n",
              "      <td>Services</td>\n",
              "      <td>USA</td>\n",
              "      <td>USA</td>\n",
              "      <td>USA</td>\n",
              "      <td>F</td>\n",
              "      <td>49.6</td>\n",
              "      <td>Lloyds</td>\n",
              "      <td>0</td>\n",
              "    </tr>\n",
              "    <tr>\n",
              "      <th>2</th>\n",
              "      <td>#2694 780</td>\n",
              "      <td>14-Oct-20</td>\n",
              "      <td>Wednesday</td>\n",
              "      <td>14</td>\n",
              "      <td>Visa</td>\n",
              "      <td>Tap</td>\n",
              "      <td>£5</td>\n",
              "      <td>POS</td>\n",
              "      <td>Restaurant</td>\n",
              "      <td>India</td>\n",
              "      <td>India</td>\n",
              "      <td>India</td>\n",
              "      <td>F</td>\n",
              "      <td>42.2</td>\n",
              "      <td>Barclays</td>\n",
              "      <td>0</td>\n",
              "    </tr>\n",
              "    <tr>\n",
              "      <th>3</th>\n",
              "      <td>#2640 960</td>\n",
              "      <td>13-Oct-20</td>\n",
              "      <td>Tuesday</td>\n",
              "      <td>14</td>\n",
              "      <td>Visa</td>\n",
              "      <td>Tap</td>\n",
              "      <td>£28</td>\n",
              "      <td>POS</td>\n",
              "      <td>Entertainment</td>\n",
              "      <td>United Kingdom</td>\n",
              "      <td>India</td>\n",
              "      <td>United Kingdom</td>\n",
              "      <td>F</td>\n",
              "      <td>51.0</td>\n",
              "      <td>Barclays</td>\n",
              "      <td>0</td>\n",
              "    </tr>\n",
              "    <tr>\n",
              "      <th>4</th>\n",
              "      <td>#2771 031</td>\n",
              "      <td>13-Oct-20</td>\n",
              "      <td>Tuesday</td>\n",
              "      <td>23</td>\n",
              "      <td>Visa</td>\n",
              "      <td>CVC</td>\n",
              "      <td>£91</td>\n",
              "      <td>Online</td>\n",
              "      <td>Electronics</td>\n",
              "      <td>USA</td>\n",
              "      <td>USA</td>\n",
              "      <td>United Kingdom</td>\n",
              "      <td>M</td>\n",
              "      <td>38.0</td>\n",
              "      <td>Halifax</td>\n",
              "      <td>1</td>\n",
              "    </tr>\n",
              "  </tbody>\n",
              "</table>\n",
              "</div>\n",
              "      <button class=\"colab-df-convert\" onclick=\"convertToInteractive('df-ee8d9344-d160-4415-8368-60eae918d2d3')\"\n",
              "              title=\"Convert this dataframe to an interactive table.\"\n",
              "              style=\"display:none;\">\n",
              "        \n",
              "  <svg xmlns=\"http://www.w3.org/2000/svg\" height=\"24px\"viewBox=\"0 0 24 24\"\n",
              "       width=\"24px\">\n",
              "    <path d=\"M0 0h24v24H0V0z\" fill=\"none\"/>\n",
              "    <path d=\"M18.56 5.44l.94 2.06.94-2.06 2.06-.94-2.06-.94-.94-2.06-.94 2.06-2.06.94zm-11 1L8.5 8.5l.94-2.06 2.06-.94-2.06-.94L8.5 2.5l-.94 2.06-2.06.94zm10 10l.94 2.06.94-2.06 2.06-.94-2.06-.94-.94-2.06-.94 2.06-2.06.94z\"/><path d=\"M17.41 7.96l-1.37-1.37c-.4-.4-.92-.59-1.43-.59-.52 0-1.04.2-1.43.59L10.3 9.45l-7.72 7.72c-.78.78-.78 2.05 0 2.83L4 21.41c.39.39.9.59 1.41.59.51 0 1.02-.2 1.41-.59l7.78-7.78 2.81-2.81c.8-.78.8-2.07 0-2.86zM5.41 20L4 18.59l7.72-7.72 1.47 1.35L5.41 20z\"/>\n",
              "  </svg>\n",
              "      </button>\n",
              "      \n",
              "  <style>\n",
              "    .colab-df-container {\n",
              "      display:flex;\n",
              "      flex-wrap:wrap;\n",
              "      gap: 12px;\n",
              "    }\n",
              "\n",
              "    .colab-df-convert {\n",
              "      background-color: #E8F0FE;\n",
              "      border: none;\n",
              "      border-radius: 50%;\n",
              "      cursor: pointer;\n",
              "      display: none;\n",
              "      fill: #1967D2;\n",
              "      height: 32px;\n",
              "      padding: 0 0 0 0;\n",
              "      width: 32px;\n",
              "    }\n",
              "\n",
              "    .colab-df-convert:hover {\n",
              "      background-color: #E2EBFA;\n",
              "      box-shadow: 0px 1px 2px rgba(60, 64, 67, 0.3), 0px 1px 3px 1px rgba(60, 64, 67, 0.15);\n",
              "      fill: #174EA6;\n",
              "    }\n",
              "\n",
              "    [theme=dark] .colab-df-convert {\n",
              "      background-color: #3B4455;\n",
              "      fill: #D2E3FC;\n",
              "    }\n",
              "\n",
              "    [theme=dark] .colab-df-convert:hover {\n",
              "      background-color: #434B5C;\n",
              "      box-shadow: 0px 1px 3px 1px rgba(0, 0, 0, 0.15);\n",
              "      filter: drop-shadow(0px 1px 2px rgba(0, 0, 0, 0.3));\n",
              "      fill: #FFFFFF;\n",
              "    }\n",
              "  </style>\n",
              "\n",
              "      <script>\n",
              "        const buttonEl =\n",
              "          document.querySelector('#df-ee8d9344-d160-4415-8368-60eae918d2d3 button.colab-df-convert');\n",
              "        buttonEl.style.display =\n",
              "          google.colab.kernel.accessAllowed ? 'block' : 'none';\n",
              "\n",
              "        async function convertToInteractive(key) {\n",
              "          const element = document.querySelector('#df-ee8d9344-d160-4415-8368-60eae918d2d3');\n",
              "          const dataTable =\n",
              "            await google.colab.kernel.invokeFunction('convertToInteractive',\n",
              "                                                     [key], {});\n",
              "          if (!dataTable) return;\n",
              "\n",
              "          const docLinkHtml = 'Like what you see? Visit the ' +\n",
              "            '<a target=\"_blank\" href=https://colab.research.google.com/notebooks/data_table.ipynb>data table notebook</a>'\n",
              "            + ' to learn more about interactive tables.';\n",
              "          element.innerHTML = '';\n",
              "          dataTable['output_type'] = 'display_data';\n",
              "          await google.colab.output.renderOutput(dataTable, element);\n",
              "          const docLink = document.createElement('div');\n",
              "          docLink.innerHTML = docLinkHtml;\n",
              "          element.appendChild(docLink);\n",
              "        }\n",
              "      </script>\n",
              "    </div>\n",
              "  </div>\n",
              "  "
            ]
          },
          "metadata": {},
          "execution_count": 10
        }
      ]
    },
    {
      "cell_type": "code",
      "source": [
        "data['Age'].max()"
      ],
      "metadata": {
        "colab": {
          "base_uri": "https://localhost:8080/"
        },
        "id": "VpkHBGA4J1A_",
        "outputId": "7417f95b-4403-4c7b-dfa6-7fe3b85a1c43"
      },
      "execution_count": null,
      "outputs": [
        {
          "output_type": "execute_result",
          "data": {
            "text/plain": [
              "86.1"
            ]
          },
          "metadata": {},
          "execution_count": 40
        }
      ]
    },
    {
      "cell_type": "code",
      "source": [
        "data['Age'] = data['Age'].astype('uint8', errors='ignore')"
      ],
      "metadata": {
        "id": "ihLycF2pHd5h"
      },
      "execution_count": 87,
      "outputs": []
    },
    {
      "cell_type": "code",
      "source": [
        "data.info()"
      ],
      "metadata": {
        "colab": {
          "base_uri": "https://localhost:8080/"
        },
        "id": "9iud2pBtTM2q",
        "outputId": "ac72656a-e260-46d8-cbeb-9bc27e23d7a1"
      },
      "execution_count": null,
      "outputs": [
        {
          "output_type": "stream",
          "name": "stdout",
          "text": [
            "<class 'pandas.core.frame.DataFrame'>\n",
            "RangeIndex: 100000 entries, 0 to 99999\n",
            "Data columns (total 16 columns):\n",
            " #   Column                  Non-Null Count   Dtype         \n",
            "---  ------                  --------------   -----         \n",
            " 0   Transaction ID          100000 non-null  string        \n",
            " 1   Date                    100000 non-null  datetime64[ns]\n",
            " 2   Day of Week             100000 non-null  string        \n",
            " 3   Time                    100000 non-null  Int64         \n",
            " 4   Type of Card            100000 non-null  string        \n",
            " 5   Entry Mode              100000 non-null  string        \n",
            " 6   Amount                  99994 non-null   string        \n",
            " 7   Type of Transaction     100000 non-null  string        \n",
            " 8   Merchant Group          99990 non-null   string        \n",
            " 9   Country of Transaction  100000 non-null  string        \n",
            " 10  Shipping Address        99995 non-null   string        \n",
            " 11  Country of Residence    100000 non-null  string        \n",
            " 12  Gender                  99996 non-null   string        \n",
            " 13  Age                     100000 non-null  uint8         \n",
            " 14  Bank                    100000 non-null  string        \n",
            " 15  Fraud                   100000 non-null  Int64         \n",
            "dtypes: Int64(2), datetime64[ns](1), string(12), uint8(1)\n",
            "memory usage: 11.7 MB\n"
          ]
        }
      ]
    },
    {
      "cell_type": "markdown",
      "source": [
        "Dropping Missing Values"
      ],
      "metadata": {
        "id": "YK-rjMosvO6d"
      }
    },
    {
      "cell_type": "code",
      "source": [
        "data.isnull().sum()"
      ],
      "metadata": {
        "colab": {
          "base_uri": "https://localhost:8080/"
        },
        "id": "xooNthiJij9w",
        "outputId": "ca9bc0ba-b8ac-4204-959a-377b7d04df37"
      },
      "execution_count": 29,
      "outputs": [
        {
          "output_type": "execute_result",
          "data": {
            "text/plain": [
              "Transaction ID             0\n",
              "Date                       0\n",
              "Day of Week                0\n",
              "Time                       0\n",
              "Type of Card               0\n",
              "Entry Mode                 0\n",
              "Amount                     6\n",
              "Type of Transaction        0\n",
              "Merchant Group            10\n",
              "Country of Transaction     0\n",
              "Shipping Address           5\n",
              "Country of Residence       0\n",
              "Gender                     4\n",
              "Age                        0\n",
              "Bank                       0\n",
              "Fraud                      0\n",
              "dtype: int64"
            ]
          },
          "metadata": {},
          "execution_count": 29
        }
      ]
    },
    {
      "cell_type": "code",
      "source": [
        "new_data = data.dropna(axis=0) #axis 0 will remove null values from row, 1 is for columns\n",
        "print(\"Old data frame length:\", len(data), \"\\nNew data frame length:\", \n",
        "       len(new_data), \"\\nNumber of rows with at least 1 NA value: \",\n",
        "       (len(data)-len(new_data)))"
      ],
      "metadata": {
        "colab": {
          "base_uri": "https://localhost:8080/"
        },
        "id": "T03uI6hTtOoi",
        "outputId": "cfd5ec4f-37fb-4663-d4a2-df665137e9c9"
      },
      "execution_count": 88,
      "outputs": [
        {
          "output_type": "stream",
          "name": "stdout",
          "text": [
            "Old data frame length: 100000 \n",
            "New data frame length: 99977 \n",
            "Number of rows with at least 1 NA value:  23\n"
          ]
        }
      ]
    },
    {
      "cell_type": "code",
      "source": [
        "data = new_data"
      ],
      "metadata": {
        "id": "jj6jLtGGv_jn"
      },
      "execution_count": 89,
      "outputs": []
    },
    {
      "cell_type": "code",
      "source": [
        "data.shape"
      ],
      "metadata": {
        "colab": {
          "base_uri": "https://localhost:8080/"
        },
        "id": "1iCY52rBuraZ",
        "outputId": "0ae786f8-50bb-4c86-d917-0e67f87eee47"
      },
      "execution_count": 68,
      "outputs": [
        {
          "output_type": "execute_result",
          "data": {
            "text/plain": [
              "(99977, 16)"
            ]
          },
          "metadata": {},
          "execution_count": 68
        }
      ]
    },
    {
      "cell_type": "markdown",
      "source": [
        "Dropping Duplicates"
      ],
      "metadata": {
        "id": "R93t1Qomv4Gy"
      }
    },
    {
      "cell_type": "code",
      "source": [
        "duplicateRowdata = data[data.duplicated()]\n",
        "print(duplicateRowdata)"
      ],
      "metadata": {
        "colab": {
          "base_uri": "https://localhost:8080/"
        },
        "id": "FpA6BHHPv8Nm",
        "outputId": "15a33091-aefd-4c9a-81a1-c6294551ff12"
      },
      "execution_count": 62,
      "outputs": [
        {
          "output_type": "stream",
          "name": "stdout",
          "text": [
            "Empty DataFrame\n",
            "Columns: [Transaction ID, Date, Day of Week, Time, Type of Card, Entry Mode, Amount, Type of Transaction, Merchant Group, Country of Transaction, Shipping Address, Country of Residence, Gender, Age, Bank, Fraud]\n",
            "Index: []\n"
          ]
        }
      ]
    },
    {
      "cell_type": "markdown",
      "source": [
        "No duplicated rows found as dataframe returned as empty."
      ],
      "metadata": {
        "id": "HSQUqO9c06I2"
      }
    },
    {
      "cell_type": "code",
      "source": [
        "print(pd.unique(data['Date']))\n",
        "print(pd.unique(data['Day of Week']))\n",
        "print(pd.unique(data['Time']))\n",
        "print(pd.unique(data['Type of Card']))\n",
        "print(pd.unique(data['Entry Mode']))\n",
        "print(pd.unique(data['Amount']))\n",
        "print(pd.unique(data['Type of Transaction']))\n",
        "print(pd.unique(data['Merchant Group']))\n",
        "print(pd.unique(data['Country of Transaction']))\n",
        "print(pd.unique(data['Shipping Address']))\n",
        "print(pd.unique(data['Country of Residence']))\n",
        "print(pd.unique(data['Gender']))\n",
        "print(pd.unique(data['Age']))\n",
        "print(pd.unique(data['Bank']))\n",
        "print(pd.unique(data['Fraud']))"
      ],
      "metadata": {
        "colab": {
          "base_uri": "https://localhost:8080/"
        },
        "id": "XR0kDPSid2mQ",
        "outputId": "8f6bc92c-174f-40c4-958e-b14505f3b8c1"
      },
      "execution_count": 44,
      "outputs": [
        {
          "output_type": "stream",
          "name": "stdout",
          "text": [
            "['2020-10-14T00:00:00.000000000' '2020-10-13T00:00:00.000000000'\n",
            " '2020-10-16T00:00:00.000000000' '2020-10-15T00:00:00.000000000']\n",
            "<StringArray>\n",
            "['Wednesday', 'Tuesday', 'Thursday', 'Friday']\n",
            "Length: 4, dtype: string\n",
            "<IntegerArray>\n",
            "[19, 17, 14, 23, 20, 18, 11,  1, 21,  0,  8,  9, 15, 22,  7,  3, 12,  4,  5,\n",
            " 10, 13,  2, 16,  6, 24]\n",
            "Length: 25, dtype: Int64\n",
            "<StringArray>\n",
            "['Visa', 'MasterCard']\n",
            "Length: 2, dtype: string\n",
            "<StringArray>\n",
            "['Tap', 'PIN', 'CVC']\n",
            "Length: 3, dtype: string\n",
            "<StringArray>\n",
            "[  '5', '288',  '28',  '91',  '30', '231', '154',  '39',  '17', '326',\n",
            " ...\n",
            "  '68', '193', '232', '227',  '33', '295', '276', '205', '284', '278']\n",
            "Length: 396, dtype: string\n",
            "<StringArray>\n",
            "['POS', 'Online', 'ATM']\n",
            "Length: 3, dtype: string\n",
            "<StringArray>\n",
            "['Entertainment',      'Services',    'Restaurant',   'Electronics',\n",
            "      'Children',       'Fashion',          'Food',      'Products',\n",
            "  'Subscription',        'Gaming']\n",
            "Length: 10, dtype: string\n",
            "<StringArray>\n",
            "['United Kingdom', 'USA', 'India', 'Russia', 'China']\n",
            "Length: 5, dtype: string\n",
            "<StringArray>\n",
            "['United Kingdom', 'USA', 'India', 'Russia', 'China']\n",
            "Length: 5, dtype: string\n",
            "<StringArray>\n",
            "['United Kingdom', 'USA', 'India', 'Russia', 'China']\n",
            "Length: 5, dtype: string\n",
            "<StringArray>\n",
            "['M', 'F']\n",
            "Length: 2, dtype: string\n",
            "[25 49 42 51 38 48 39 37 43 69 54 46 50 62 28 55 29 80 63 45 58 47 53 35\n",
            " 52 40 23 26 72 36 57 41 30 31 56 61 33 60 44 67 59 32 27 34 65 68 64 21\n",
            " 73 20 66 24 19 15 74 70 18 17 71 22 75 82 16 76 77 83 81 78 79 85 86]\n",
            "<StringArray>\n",
            "['RBS', 'Lloyds', 'Barclays', 'Halifax', 'Monzo', 'HSBC', 'Metro', 'Barlcays']\n",
            "Length: 8, dtype: string\n",
            "<IntegerArray>\n",
            "[0, 1]\n",
            "Length: 2, dtype: Int64\n"
          ]
        }
      ]
    },
    {
      "cell_type": "markdown",
      "source": [
        "We can see from the output that the data is mostly cleaned apart from a few unique values in columns 'Date' and 'Bank'.\n",
        "\n",
        "Starting with the 'Date' column we can see that we have transactions recorded on the 13th, 14th, 15th & 16th October 2020. However, we have been told that the transactions we're recorded on the 13th & 14th October 2020. To minimise errors, we will drop the columns with date recorded on the 15th & 16th October 2020."
      ],
      "metadata": {
        "id": "Xzc4RvfI6sD1"
      }
    },
    {
      "cell_type": "code",
      "source": [
        "date_data = data.drop(data.index[(data['Date'] == '2020-10-15') | (data['Date'] == '2020-10-16')])\n",
        "print(\"Old data frame length:\", len(data), \"\\nNew data frame length:\", \n",
        "       len(date_data), \"\\nNumber of rows with dates 15th or 16th October 2020: \",\n",
        "       (len(data)-len(date_data)))\n"
      ],
      "metadata": {
        "colab": {
          "base_uri": "https://localhost:8080/"
        },
        "id": "E_E4y3xJ6rtg",
        "outputId": "90e444e3-6052-4118-d9c9-2beec87bf289"
      },
      "execution_count": 94,
      "outputs": [
        {
          "output_type": "stream",
          "name": "stdout",
          "text": [
            "Old data frame length: 99977 \n",
            "New data frame length: 99975 \n",
            "Number of rows with dates 15th or 16th October 2020:  2\n"
          ]
        }
      ]
    },
    {
      "cell_type": "code",
      "source": [
        "data = date_data"
      ],
      "metadata": {
        "id": "YLlRZcRNHIqz"
      },
      "execution_count": 95,
      "outputs": []
    },
    {
      "cell_type": "code",
      "source": [
        "data.shape"
      ],
      "metadata": {
        "colab": {
          "base_uri": "https://localhost:8080/"
        },
        "id": "7ZP7-xbELAFN",
        "outputId": "86bfde38-2684-445d-da00-9fd7e067820b"
      },
      "execution_count": 96,
      "outputs": [
        {
          "output_type": "execute_result",
          "data": {
            "text/plain": [
              "(99975, 16)"
            ]
          },
          "metadata": {},
          "execution_count": 96
        }
      ]
    },
    {
      "cell_type": "markdown",
      "source": [
        "Secondly, we can see that in the 'Bank' column we can see that the bank some of the entries have the miss spelling of 'Barclays'. We will replace the entries having 'Bar**cays**' to 'Barclays'."
      ],
      "metadata": {
        "id": "j85-XKn5FzTW"
      }
    },
    {
      "cell_type": "code",
      "source": [
        ""
      ],
      "metadata": {
        "id": "rSA6bwsqGe8V"
      },
      "execution_count": null,
      "outputs": []
    },
    {
      "cell_type": "markdown",
      "source": [
        "Key:\n",
        "\n",
        "- **Transaction ID** <-- is our Index  \n",
        "- Date: \n",
        "- Day of Week            \n",
        "- Time                    \n",
        "- Type of Card           \n",
        "- Entry Mode               \n",
        "- Amount                   \n",
        "- Type of Transaction      \n",
        "- Merchant Group           \n",
        "- Country of Transaction  \n",
        "- Shipping Address        \n",
        "- Country of Residence    \n",
        "- Gender                \n",
        "- Age                    \n",
        "- Bank                    \n",
        "- Fraud "
      ],
      "metadata": {
        "id": "pfe8bR8ZY0rO"
      }
    },
    {
      "cell_type": "code",
      "source": [
        "data.replace({'A': {0: 100, 4: 400}})"
      ],
      "metadata": {
        "id": "c-IETUWHawvQ"
      },
      "execution_count": null,
      "outputs": []
    },
    {
      "cell_type": "code",
      "source": [
        "data1 = data[data.isna().any(axis=1)]\n",
        "data1.head()"
      ],
      "metadata": {
        "colab": {
          "base_uri": "https://localhost:8080/",
          "height": 130
        },
        "id": "DPXGa3UiWDEA",
        "outputId": "51892a46-7605-40fe-b02c-c87d3a74c68e"
      },
      "execution_count": null,
      "outputs": [
        {
          "output_type": "error",
          "ename": "SyntaxError",
          "evalue": "ignored",
          "traceback": [
            "\u001b[0;36m  File \u001b[0;32m\"<ipython-input-54-aff51a64841e>\"\u001b[0;36m, line \u001b[0;32m2\u001b[0m\n\u001b[0;31m    data1.head(*)\u001b[0m\n\u001b[0m                ^\u001b[0m\n\u001b[0;31mSyntaxError\u001b[0m\u001b[0;31m:\u001b[0m invalid syntax\n"
          ]
        }
      ]
    },
    {
      "cell_type": "markdown",
      "source": [
        ""
      ],
      "metadata": {
        "id": "R1qr0M09ZmyX"
      }
    },
    {
      "cell_type": "code",
      "source": [
        "data = data.dropna(axis=1) #axis 1 will remove null values from row, 0 is for columns\n",
        "print(data.isnull().sum())"
      ],
      "metadata": {
        "colab": {
          "base_uri": "https://localhost:8080/"
        },
        "id": "UFuxUg76VCJE",
        "outputId": "5815b373-2e90-4bb2-b8ab-71c180ba8e6b"
      },
      "execution_count": null,
      "outputs": [
        {
          "output_type": "stream",
          "name": "stdout",
          "text": [
            "Transaction ID            0\n",
            "Date                      0\n",
            "Day of Week               0\n",
            "Time                      0\n",
            "Type of Card              0\n",
            "Entry Mode                0\n",
            "Type of Transaction       0\n",
            "Country of Transaction    0\n",
            "Country of Residence      0\n",
            "Age                       0\n",
            "Bank                      0\n",
            "Fraud                     0\n",
            "dtype: int64\n"
          ]
        }
      ]
    },
    {
      "cell_type": "code",
      "source": [
        "min(data.Amount), max(data.Amount)"
      ],
      "metadata": {
        "colab": {
          "base_uri": "https://localhost:8080/",
          "height": 200
        },
        "id": "ntrO1ZHJFLHg",
        "outputId": "420ca52b-60b4-4b70-98fb-cd14c73783da"
      },
      "execution_count": null,
      "outputs": [
        {
          "output_type": "error",
          "ename": "TypeError",
          "evalue": "ignored",
          "traceback": [
            "\u001b[0;31m---------------------------------------------------------------------------\u001b[0m",
            "\u001b[0;31mTypeError\u001b[0m                                 Traceback (most recent call last)",
            "\u001b[0;32m<ipython-input-29-ac529205de6f>\u001b[0m in \u001b[0;36m<module>\u001b[0;34m()\u001b[0m\n\u001b[0;32m----> 1\u001b[0;31m \u001b[0mmin\u001b[0m\u001b[0;34m(\u001b[0m\u001b[0mdata\u001b[0m\u001b[0;34m.\u001b[0m\u001b[0mAmount\u001b[0m\u001b[0;34m)\u001b[0m\u001b[0;34m,\u001b[0m \u001b[0mmax\u001b[0m\u001b[0;34m(\u001b[0m\u001b[0mdata\u001b[0m\u001b[0;34m.\u001b[0m\u001b[0mAmount\u001b[0m\u001b[0;34m)\u001b[0m\u001b[0;34m\u001b[0m\u001b[0;34m\u001b[0m\u001b[0m\n\u001b[0m",
            "\u001b[0;32m/usr/local/lib/python3.7/dist-packages/pandas/_libs/missing.pyx\u001b[0m in \u001b[0;36mpandas._libs.missing.NAType.__bool__\u001b[0;34m()\u001b[0m\n",
            "\u001b[0;31mTypeError\u001b[0m: boolean value of NA is ambiguous"
          ]
        }
      ]
    },
    {
      "cell_type": "code",
      "source": [
        "df['Transaction ID'].is_unique"
      ],
      "metadata": {
        "colab": {
          "base_uri": "https://localhost:8080/"
        },
        "id": "Omd9c9Ofwq93",
        "outputId": "355861c8-c8c3-4f5b-e324-3a5296537657"
      },
      "execution_count": null,
      "outputs": [
        {
          "output_type": "execute_result",
          "data": {
            "text/plain": [
              "False"
            ]
          },
          "metadata": {},
          "execution_count": 167
        }
      ]
    },
    {
      "cell_type": "code",
      "source": [
        "df.dtypes"
      ],
      "metadata": {
        "colab": {
          "base_uri": "https://localhost:8080/"
        },
        "id": "oUjCVr5H0Kx0",
        "outputId": "6fedf619-ba80-4a4d-9b64-7b26aa4bb4e2"
      },
      "execution_count": null,
      "outputs": [
        {
          "output_type": "execute_result",
          "data": {
            "text/plain": [
              "Transaction ID             object\n",
              "Date                       object\n",
              "Day of Week                object\n",
              "Time                        int64\n",
              "Type of Card               object\n",
              "Entry Mode                 object\n",
              "Amount                     object\n",
              "Type of Transaction        object\n",
              "Merchant Group             object\n",
              "Country of Transaction     object\n",
              "Shipping Address           object\n",
              "Country of Residence       object\n",
              "Gender                     object\n",
              "Age                       float64\n",
              "Bank                       object\n",
              "Fraud                       int64\n",
              "dtype: object"
            ]
          },
          "metadata": {},
          "execution_count": 168
        }
      ]
    },
    {
      "cell_type": "code",
      "source": [
        "df = df.astype({'Transaction ID': int})"
      ],
      "metadata": {
        "id": "bQJC46Pw9vmG"
      },
      "execution_count": null,
      "outputs": []
    },
    {
      "cell_type": "code",
      "source": [
        "df.dtypes"
      ],
      "metadata": {
        "colab": {
          "base_uri": "https://localhost:8080/"
        },
        "id": "6k4CZckB99L4",
        "outputId": "ac35ad7a-63a3-460d-dcce-553073351adf"
      },
      "execution_count": null,
      "outputs": [
        {
          "output_type": "execute_result",
          "data": {
            "text/plain": [
              "Transaction ID              int64\n",
              "Date                       object\n",
              "Day of Week                object\n",
              "Time                        int64\n",
              "Type of Card               object\n",
              "Entry Mode                 object\n",
              "Amount                     object\n",
              "Type of Transaction        object\n",
              "Merchant Group             object\n",
              "Country of Transaction     object\n",
              "Shipping Address           object\n",
              "Country of Residence       object\n",
              "Gender                     object\n",
              "Age                       float64\n",
              "Bank                       object\n",
              "Fraud                       int64\n",
              "dtype: object"
            ]
          },
          "metadata": {},
          "execution_count": 171
        }
      ]
    },
    {
      "cell_type": "code",
      "source": [
        "df = df.set_index('Transaction ID', inplace=True)"
      ],
      "metadata": {
        "id": "dACx5tNIxUyO"
      },
      "execution_count": null,
      "outputs": []
    },
    {
      "cell_type": "code",
      "source": [
        "df.isnull().sum()"
      ],
      "metadata": {
        "id": "WO8cgFTDoEdo",
        "colab": {
          "base_uri": "https://localhost:8080/",
          "height": 171
        },
        "outputId": "dec6b281-548a-4567-a84d-93ae15383c2a"
      },
      "execution_count": null,
      "outputs": [
        {
          "output_type": "error",
          "ename": "AttributeError",
          "evalue": "ignored",
          "traceback": [
            "\u001b[0;31m---------------------------------------------------------------------------\u001b[0m",
            "\u001b[0;31mAttributeError\u001b[0m                            Traceback (most recent call last)",
            "\u001b[0;32m<ipython-input-179-629914d6d1c7>\u001b[0m in \u001b[0;36m<module>\u001b[0;34m()\u001b[0m\n\u001b[0;32m----> 1\u001b[0;31m \u001b[0mdf\u001b[0m\u001b[0;34m.\u001b[0m\u001b[0misnull\u001b[0m\u001b[0;34m(\u001b[0m\u001b[0;34m)\u001b[0m\u001b[0;34m.\u001b[0m\u001b[0msum\u001b[0m\u001b[0;34m(\u001b[0m\u001b[0;34m)\u001b[0m\u001b[0;34m\u001b[0m\u001b[0;34m\u001b[0m\u001b[0m\n\u001b[0m",
            "\u001b[0;31mAttributeError\u001b[0m: 'NoneType' object has no attribute 'isnull'"
          ]
        }
      ]
    },
    {
      "cell_type": "code",
      "source": [
        "df.get_dtype_counts()"
      ],
      "metadata": {
        "colab": {
          "base_uri": "https://localhost:8080/",
          "height": 171
        },
        "id": "K3aHXD9s_qbV",
        "outputId": "84434d6a-ff8d-409c-82c2-27fcb8dbab35"
      },
      "execution_count": null,
      "outputs": [
        {
          "output_type": "error",
          "ename": "AttributeError",
          "evalue": "ignored",
          "traceback": [
            "\u001b[0;31m---------------------------------------------------------------------------\u001b[0m",
            "\u001b[0;31mAttributeError\u001b[0m                            Traceback (most recent call last)",
            "\u001b[0;32m<ipython-input-178-c272734f6f79>\u001b[0m in \u001b[0;36m<module>\u001b[0;34m()\u001b[0m\n\u001b[0;32m----> 1\u001b[0;31m \u001b[0mdf\u001b[0m\u001b[0;34m.\u001b[0m\u001b[0mget_dtype_counts\u001b[0m\u001b[0;34m(\u001b[0m\u001b[0;34m)\u001b[0m\u001b[0;34m\u001b[0m\u001b[0;34m\u001b[0m\u001b[0m\n\u001b[0m",
            "\u001b[0;31mAttributeError\u001b[0m: 'NoneType' object has no attribute 'get_dtype_counts'"
          ]
        }
      ]
    }
  ]
}